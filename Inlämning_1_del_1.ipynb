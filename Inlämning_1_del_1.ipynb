{
  "cells": [
    {
      "cell_type": "markdown",
      "metadata": {
        "id": "4YbrtOTEds2t"
      },
      "source": [
        "# Inlämning laboration 1.1\n",
        "\n",
        "Vissa av uppgifterna i denna inlämning är inspirerade från följande källor:\n",
        "\n",
        "- MyMachineLearningCourse in Python, licensierad  under GNU General Public License v3.0\n",
        "- Software Carpentry Copyright ©Software Carpentry, http://software-carpentry.org/, licensierad under Creative Commons Attribution license,https://creativecommons.org/licenses/by/4.0/\n",
        "- Geo Python (© Copyright 2017 Tenkanen & Whipp, University of Helsinki) licensierad under Creative Commons Attribution-ShareAlike 4.0 International licence https://creativecommons.org/licenses/by-sa/4.0/legalcode.\n",
        "- Data 8 Foundations of Data Science från UCL Berkley licensierad under Creative Commons Attribution-NonCommercial 4.0 International (CC BY-NC 4.0)\n",
        "\n",
        "\n",
        "Laboration 1 ska genomföras i par, när ni arbetar med laborationen ska ni vara noga med att commita och pusha era ändringar till GitHub med jämna mellanrum. Detta är dels för att ni inte ska riskera att förlora något arbete men också för att det ska gå att följa ert arbete som lärare. När ni är färdiga med inlämningen ska ni göra en sista commit och sedan pusha den till er GitHub för assignment_1 som ni tilldelats via GitHub Classroom och dels spara ner deni HTML och lämna in i Studium. Endast en inlämning per grupp behövs. \n",
        "\n",
        "Det finns totalt 12 uppgifter och frågor i denna del av laborationen, samtliga ska besvaras för godkänt. \n",
        "\n",
        "\n",
        "DETTA ÄR ETT TEST"
      ]
    },
    {
      "cell_type": "markdown",
      "metadata": {
        "id": "4jJjIfZAds2u"
      },
      "source": [
        "## Uppgift 1\n",
        "Skriv ut dagens datum i formatet YYYY-MM-DD"
      ]
    },
    {
      "cell_type": "code",
      "execution_count": 9,
      "metadata": {
        "id": "crZw37hqds2v",
        "colab": {
          "base_uri": "https://localhost:8080/",
          "height": 35
        },
        "outputId": "cf460ab6-0403-4320-f927-69492721f116"
      },
      "outputs": [
        {
          "output_type": "execute_result",
          "data": {
            "application/vnd.google.colaboratory.intrinsic+json": {
              "type": "string"
            },
            "text/plain": [
              "'2022-01-24'"
            ]
          },
          "metadata": {},
          "execution_count": 9
        }
      ],
      "source": [
        "#skriv din kod här\n",
        "from datetime import datetime\n",
        "datetime.today().strftime('%Y-%m-%d')"
      ]
    },
    {
      "cell_type": "markdown",
      "metadata": {
        "id": "7lpcETpBds2v"
      },
      "source": [
        "## Uppgift 2  \n",
        "Ett mycket vanligt sätt för att minupulera värden i Python är genom att ropa på funktioner. Det finns mängder med inbyggda sådana men det går också att skapa egna. [Här](https://docs.python.org/3/library/functions.html) finns en sammanställning av inbyggda funktioner som är tillgänliga per default i Python, men såklart finns det fler. \n",
        "\n",
        "Ett exempel på en inbyggd funktion är funktionen `abs`, denna funktion tar ett nummer som argument och returnerar det absoluta värdet av detta nummer. Det absoluta värdet är avståndet mellan 0 och numret, exempelvis är abs(5) alltså 5 och abs(-5) är också 5. \n",
        "\n",
        "För att definiera en funtion i Python används ordet def (det finns också anonyma funktioner där def inte används men det går vi inte igenom här). \n",
        "\n",
        "Definiera en funktion `max_of_three()` som tar tre olika nummer som argument och returnerar det största av dem, skriv ut resultatet."
      ]
    },
    {
      "cell_type": "code",
      "execution_count": 10,
      "metadata": {
        "id": "Oo_Otd8sds2v",
        "colab": {
          "base_uri": "https://localhost:8080/"
        },
        "outputId": "249a897f-baf9-49c0-9ca8-ac952be8f977"
      },
      "outputs": [
        {
          "output_type": "execute_result",
          "data": {
            "text/plain": [
              "13"
            ]
          },
          "metadata": {},
          "execution_count": 10
        }
      ],
      "source": [
        "#skriv din kod för uppgift 1 här\n",
        "def max_of_three(n1, n2, n3):\n",
        "  numbers = [n1, n2, n3]\n",
        "  return max(numbers)\n",
        "  \n",
        "max_of_three(2, 7, 13)"
      ]
    },
    {
      "cell_type": "markdown",
      "metadata": {
        "id": "bLFa_dGZds2w"
      },
      "source": [
        "## Uppgift 3  \n",
        "Funktioner kan också ta flera argument, dessa separeras med hjälp av , exempelvis kan den inbyggda funtionen max ta emot flera argument i form av nummer och returnerar sedan det största av dem. Funktioner kan också ta listor eller andra datastrukturer som argument.\n",
        "\n",
        "Definiera två olika funktioner en funktion`sum()` och en funktion`multiply()` som båda tar en lista med nummer som argument.  Därefter ska`sum()` summera alla nummer i listan medan `multiply()`ska multiplicera alla nummer. Skriv ut resultatet \n",
        "\n",
        "**Ex:** `sum([1, 2, 3, 4])` ska returnera 10, och `multiply([1, 2, 3, 4])` ska returnera 24."
      ]
    },
    {
      "cell_type": "code",
      "source": [
        "def sumNumbers(a_list):\n",
        "  summedList = sum(a_list)\n",
        "  return summedList\n",
        "\n",
        "def multiply(a_list):\n",
        "  result = 1\n",
        "  for x in a_list:\n",
        "    result = result * x\n",
        "  return result\n",
        "\n",
        "listOfNumbers = [1, 2, 3, 4]\n",
        "print(sumNumbers(listOfNumbers))\n",
        "print(multiply(listOfNumbers))"
      ],
      "metadata": {
        "colab": {
          "base_uri": "https://localhost:8080/"
        },
        "id": "d0Oh_VdNFs9I",
        "outputId": "2bb138af-d0a2-4ab2-d6a2-85b54d33c3d0"
      },
      "execution_count": 7,
      "outputs": [
        {
          "output_type": "stream",
          "name": "stdout",
          "text": [
            "10\n",
            "24\n"
          ]
        }
      ]
    },
    {
      "cell_type": "markdown",
      "metadata": {
        "id": "_rhn8vIkds2w"
      },
      "source": [
        "## Uppgift 4\n",
        "\n",
        "Funktioner kan också ta ett varierande antal argument, se exempelvis hur [här](https://book.pythontips.com/en/latest/args_and_kwargs.html)\n",
        "\n",
        "**a.** Definiera en funktion som tar ett obestämt antal kommaseparerade nummer som argument och genererar en lista och en tuple som innehåller dessa nummer.\n",
        "\n",
        "**b.** Vad är skillnaden mellan en lista och en tuple i Python?"
      ]
    },
    {
      "cell_type": "code",
      "source": [
        "#a.\n",
        "def generator(*args):\n",
        "  gen_tuple = args\n",
        "  gen_list = [args]\n",
        "  print(type(gen_tuple))\n",
        "  print(gen_tuple)\n",
        "  print(type(gen_list))\n",
        "  print(gen_list)\n",
        "\n",
        "generator(5, 77, 92, 35)"
      ],
      "metadata": {
        "colab": {
          "base_uri": "https://localhost:8080/"
        },
        "id": "UwUp40RKKDye",
        "outputId": "4b04656e-da86-41de-eba7-e17f85cc1fc2"
      },
      "execution_count": 14,
      "outputs": [
        {
          "output_type": "stream",
          "name": "stdout",
          "text": [
            "<class 'tuple'>\n",
            "(5, 77, 92, 35)\n",
            "<class 'list'>\n",
            "[(5, 77, 92, 35)]\n"
          ]
        }
      ]
    },
    {
      "cell_type": "markdown",
      "source": [
        "*Tuples är mer memmory efficient, samt att listor kan modifieras medans en tuple inte kan det*"
      ],
      "metadata": {
        "id": "4cvpNx_jLn24"
      }
    },
    {
      "cell_type": "markdown",
      "metadata": {
        "id": "kNW9DIoyds2w"
      },
      "source": [
        "## Uppgift 5 \n",
        "Skapa två olika tal som integers. Kalkylera produkten av dessa, om produkten är **högre** än 200, returnera då summan av de två talen,är produkten **lägre eller lika med** 200 returnera då produkten, skriv ut resultatet. \n",
        "\n",
        "**Ex**\n",
        "~~~\n",
        "INPUT:  \n",
        "`number1 = 10`  \n",
        "`number2 = 20`\n",
        "\n",
        "RESULT:  \n",
        "The result is 200.\n",
        "~~~\n"
      ]
    },
    {
      "cell_type": "code",
      "source": [
        "number1 = 10\n",
        "number2 = 20\n",
        "\n",
        "prod = number1*number2\n",
        "\n",
        "if prod > 200:\n",
        "  print(number1 + number2)\n",
        "elif prod <= 200:\n",
        "  print(prod)\n"
      ],
      "metadata": {
        "colab": {
          "base_uri": "https://localhost:8080/"
        },
        "id": "FH68Wg_6MP4I",
        "outputId": "e05d1cd0-1956-485c-cd22-3ca169115c86"
      },
      "execution_count": 21,
      "outputs": [
        {
          "output_type": "stream",
          "name": "stdout",
          "text": [
            "200\n"
          ]
        }
      ]
    },
    {
      "cell_type": "markdown",
      "metadata": {
        "id": "wJZvgbD4ds2w"
      },
      "source": [
        "## Uppgift 6 \n",
        "\n",
        "Precis som i andra språk hanterar Python text som strängar (string). För att representera strängar kan både `\"en textsnutt\"` och `'en annan textsnutt'` användas. Det finns mängder med inbyggda metoder i strängklassen för att manipulera strängar. \n",
        "\n",
        "**a.** Givet en sträng, skriv ut de tecken (bokstäver eller mellanslag) som finns på alla ojämna indexplatser. \n",
        "\n",
        "**b.** Utveckla ovanstående funktion så att mellanslag inte skrivs ut utan endast index med bokstäver (fortfarande bara på ojämna indexplatser). "
      ]
    },
    {
      "cell_type": "code",
      "source": [
        "#a\n",
        "word = 'This is a test to see if it wpoks'[::2]\n",
        "print(word)\n",
        "\n",
        "#b\n",
        "print(word.replace(' ', ''))"
      ],
      "metadata": {
        "colab": {
          "base_uri": "https://localhost:8080/"
        },
        "id": "EfYfMRBeNxdm",
        "outputId": "b225c213-8e94-413e-8943-766775cc5a7b"
      },
      "execution_count": 39,
      "outputs": [
        {
          "output_type": "stream",
          "name": "stdout",
          "text": [
            "Ti sats osei twos\n",
            "Tisatsoseitwos\n"
          ]
        }
      ]
    },
    {
      "cell_type": "markdown",
      "metadata": {
        "id": "1iO0Y7aZds2w"
      },
      "source": [
        "## Uppgift 7\n",
        "**a** Skapa en sträng som innehåller 4 olika ord, separerade med ; Använd den inbyggda funktionen `split()`och skriv ut de fyra orden på varsin rad.\n",
        "\n",
        "**b** Varför var denna övning viktig inför framtida analys av strukturerad data?\n",
        "\n",
        "**c** Det finns också inbyggda funktioner för att beräkna längden på en sträng, leta reda på en lämplig sådan i dokumentationen [här](https://docs.python.org/3/library/functions.html). Använd funktionen för att beräkna längden på strängen som återfinns i variablen `a_very_long_sentence`i kodcellen nedan och spara i variablen ´sentence_length´. \n",
        "\n",
        "**d** Vad för tecken är inkluderade när längden beräknas?\n",
        "\n"
      ]
    },
    {
      "cell_type": "code",
      "source": [
        "#a\n",
        "fourWords = 'This; is; a; test'\n",
        "\n",
        "splitWords = fourWords.split('; ')\n",
        "for x in splitWords:\n",
        "  print(x)"
      ],
      "metadata": {
        "colab": {
          "base_uri": "https://localhost:8080/"
        },
        "id": "LxBrb8AfWEXV",
        "outputId": "11e7e2b9-e233-4618-fb1b-bba1feda90f3"
      },
      "execution_count": 45,
      "outputs": [
        {
          "output_type": "stream",
          "name": "stdout",
          "text": [
            "This\n",
            "is\n",
            "a\n",
            "test\n"
          ]
        }
      ]
    },
    {
      "cell_type": "markdown",
      "source": [
        "# 7 b\n",
        "Det är viktigt att kunna dela upp data efter olika typer och split funktionen kan ta in de typerna som argument"
      ],
      "metadata": {
        "id": "czlUECpqW9mb"
      }
    },
    {
      "cell_type": "code",
      "execution_count": 47,
      "metadata": {
        "id": "1PrrK34vds2x",
        "colab": {
          "base_uri": "https://localhost:8080/"
        },
        "outputId": "7888a4e8-9e53-4c7a-96bd-5b41bf78b157"
      },
      "outputs": [
        {
          "output_type": "stream",
          "name": "stdout",
          "text": [
            "896\n"
          ]
        }
      ],
      "source": [
        "a_very_long_sentence = \"The representatives of the French people, organized as a National Assembly, believing that the ignorance, neglect, or contempt of the rights of man are the sole cause of public calamities and of the corruption of governments, have determined to set forth in a solemn declaration the natural, unalienable, and sacred rights of man, in order that this declaration, being constantly before all the members of the Social body, shall remind them continually of their rights and duties; in order that the acts of the legislative power, as well as those of the executive power, may be compared at any moment with the objects and purposes of all political institutions and may thus be more respected, and, lastly, in order that the grievances of the citizens, based hereafter upon simple and incontestable principles, shall tend to the maintenance of the constitution and redound to the happiness of all.\"\n",
        "sentence_length = len(a_very_long_sentence)\n",
        "#Detta sätt att skriva en variabel är väldigt vanlig och resulterar i att innehållet i variabeln skrivs ut, \n",
        "#dock endast det senaste innehållet i den sist skrivna variabeln, det går alltså inte att skriva ut en lista med variabler på detta sätt. \n",
        "print(sentence_length)\n"
      ]
    },
    {
      "cell_type": "markdown",
      "source": [
        "# 7 d\n",
        "Den retunerar varje karaktär i objektet"
      ],
      "metadata": {
        "id": "ZF3ahbOJXrni"
      }
    },
    {
      "cell_type": "markdown",
      "metadata": {
        "id": "NnMZhToRds2x"
      },
      "source": [
        "## Uppgift 8"
      ]
    },
    {
      "cell_type": "markdown",
      "metadata": {
        "id": "PQ9_cCZBds2x"
      },
      "source": [
        "Beräkna inkomstskatten för några olika personer med olika inkomst, använd nedanstående tabell för att se reglerna för inkomstskatt för olika inkomster. Skriv ut varje persons inkomst och skatt på en egen rad. \n",
        "\n",
        "| Inkomst  | Skatt (%) |\n",
        "|----------|-----------|\n",
        "| <=10 000 |     0     |\n",
        "| <=30 000 |     20    |\n",
        "| > 30 000 |     40    |\n",
        "\n",
        "\n",
        "**Ex**\n",
        "\n",
        "~~~\n",
        "En person med en inkomst på 35000 ska betala 10 000*0 + 20 000*0,2 + 5000*0,4 = 6000 kr i skatt.\n",
        "~~~"
      ]
    },
    {
      "cell_type": "code",
      "source": [
        "people = {\n",
        "    'Felix': 29000,\n",
        "    'Viktor': 100000\n",
        "}\n",
        "\n",
        "testList = list(people.items())\n",
        "print(testList)\n",
        "listOfIncomes = list(people.values())\n",
        "\n",
        "for x in listOfIncomes: \n",
        "  fullTax = 0\n",
        "  income = x\n",
        "  if income > 30000:\n",
        "    #Calculating what to tax\n",
        "    fortyTax = income - 30000\n",
        "    fullTax = fortyTax * 0.4\n",
        "    #What's left to tax\n",
        "    fullTax += 20000 * 0.2\n",
        "    #Tax\n",
        "    print('Skatt: ', fullTax)\n",
        "\n",
        "  elif income <= 30000:\n",
        "    twentyTax = income - 10000\n",
        "    fullTax += twentyTax * 0.2\n",
        "    print('Skatt: ', fullTax)\n",
        "    \n",
        "  elif income <= 10000:\n",
        "    print('Grattis, du slapp skatten!')\n",
        " "
      ],
      "metadata": {
        "colab": {
          "base_uri": "https://localhost:8080/"
        },
        "id": "9VkgD210YAB-",
        "outputId": "85ab558a-3110-44aa-91d1-5c67d382a306"
      },
      "execution_count": 37,
      "outputs": [
        {
          "output_type": "stream",
          "name": "stdout",
          "text": [
            "[('Felix', 29000), ('Viktor', 100000)]\n",
            "Skatt:  3800.0\n",
            "Skatt:  32000.0\n"
          ]
        }
      ]
    },
    {
      "cell_type": "markdown",
      "metadata": {
        "id": "tQbpN2j5ds2x"
      },
      "source": [
        "## Uppgift 9\n",
        "\n",
        "Skapa en strängvariabel som du döper till name och spara ditt förnamn och efternamn i en enda sträng i denna variabel.\n",
        "\n",
        "Skapa en integervariabel som du döper till iceCreamRating och använd denna för att spara ettnummer mellan 0 till 10 som speglar hur mycket du tycker om glass.\n",
        "\n",
        "Koda sedan i Python något som ger ungefär denna output:\n",
        "\n",
        "Mitt namn är Elin Uppström och jag ger glassätning 7 poäng av 10 möjliga!\n",
        "\n",
        "**OBS!** Elin Uppström ska såklart bestå av innehållet i variabeln name och poängen ska komma från variabeln iceCreamRating"
      ]
    },
    {
      "cell_type": "code",
      "source": [
        "name = 'Felix Höglund'\n",
        "iceCreamRating = 8\n",
        "print('Mitt namn är', name, 'och jag ger glassätning', iceCreamRating, 'poäng av 10 möjliga!')"
      ],
      "metadata": {
        "id": "S96ZiLDSm1yU",
        "outputId": "d2cd41c3-26bc-4b30-f6f0-4a452a4bc022",
        "colab": {
          "base_uri": "https://localhost:8080/"
        }
      },
      "execution_count": 39,
      "outputs": [
        {
          "output_type": "stream",
          "name": "stdout",
          "text": [
            "Mitt namn är Felix Höglund och jag ger glassätning 8 poäng av 10 möjliga!\n"
          ]
        }
      ]
    },
    {
      "cell_type": "markdown",
      "metadata": {
        "id": "CRRj9epvds2x"
      },
      "source": [
        "## Uppgift 10\n",
        "\n",
        "a. För att konvertera sekunder till sekunder, minuter och timmar kan följande metod användas med \"brute force\". \n",
        "~~~\n",
        "def convert(seconds): \n",
        "    seconds = seconds % (24 * 3600) \n",
        "    hour = seconds // 3600\n",
        "    seconds %= 3600\n",
        "    minutes = seconds // 60\n",
        "    seconds %= 60\n",
        "      \n",
        "    return \"%d:%02d:%02d\" % (hour, minutes, seconds) \n",
        "      \n",
        "# Driver program \n",
        "n = 12345\n",
        "print(convert(n)) \n",
        "\n",
        "~~~\n",
        "\n",
        "Istället för brute force, skapa två olika förslag på hur samma sak kan åstadkommas med hjälp av Pythons inbyggda bibliotek som ni hittar [här](https://docs.python.org/3/library/index.html).\n"
      ]
    },
    {
      "cell_type": "code",
      "source": [
        "import datetime\n",
        "\n",
        "secondsN = 16851\n",
        "\n",
        "# 10.1\n",
        "print(str(datetime.timedelta(seconds = secondsN)))\n",
        "\n",
        "# 10.2\n",
        "minutes, secondsN = divmod(secondsN, 60)\n",
        "hours, minutes = divmod(minutes, 60)\n",
        "\n",
        "print('%d:%02d:%02d' % (hours, minutes, secondsN))"
      ],
      "metadata": {
        "id": "rYnlvg4VoE3I",
        "outputId": "1730a923-1459-4903-c107-ddfb35fc69ba",
        "colab": {
          "base_uri": "https://localhost:8080/"
        }
      },
      "execution_count": 49,
      "outputs": [
        {
          "output_type": "stream",
          "name": "stdout",
          "text": [
            "4:40:51\n",
            "4:40:51\n"
          ]
        }
      ]
    },
    {
      "cell_type": "markdown",
      "metadata": {
        "id": "yQHwZ9a-ds2x"
      },
      "source": [
        "## Uppgift 11\n",
        "\n",
        "I filen som heter smhi_vaderdata.csv finns ett helt dyngs väderdata från Visby flygplats, nämligen från den 28 augusti 11.00 till den 29 augusti 11.00. I denna övning ska ni använda denna data och utföra ett antal uppgifter. För att importera den data som finns används ett externt bibliotek som heter pandas som vi kommer använda oss mycket av framöver. Denna gång får ni dock filen importerad åt er samt de olika temperaturerna inlagda i en lista. När ni sedan skriver er egen kod gör ni detta i ett nytt kodblock. \n",
        "\n",
        "a. Skapa tomma listor för olika typer av temperatur, exempelvis varmt, ljummet, kallt etc. Minst tre olika typer av temperaturer ska ingå. \n",
        "\n",
        "b. Iterera över listan och sortera in de olika temperaturerna i de skapade temperaturtyperna, \n",
        "\n",
        "**Ex** \n",
        "~~~\n",
        "temperatur över 18 grader ska till listan med varma temperaturer\n",
        "~~~\n",
        "\n",
        "c. Ange hur många timmar under dygnet de olika temperaturtyperna förekommit. \n",
        "\n",
        "**Ex**\n",
        "\n",
        "~~~\n",
        "Det var varmt fem timmar under dygnet.\n",
        "Det var ljummet åtta timmar under dygnet.\n",
        "Det var inte kallt någon timme under dygnet.\n",
        "~~~\n",
        "\n",
        "d. Förklara vilka argument `read_csv` kan ta och vad de två argument som skickas med i nedanstående kod betyder. \n",
        "\n",
        "e. Vad är den första kolumnen i den dataframe som skapas i koden nedan (ni måste köra koden för att resultatet ska synas.)"
      ]
    },
    {
      "cell_type": "code",
      "execution_count": null,
      "metadata": {
        "id": "MgxbJ82vds2y"
      },
      "outputs": [],
      "source": [
        "#importerar pandas och hämtar data från csv-filen till en dataFrame\n",
        "import pandas as pd\n",
        "temperature_df= pd.read_csv(\"Data/smhi_vaderdata.csv\", sep=';')\n",
        "temperature_df"
      ]
    },
    {
      "cell_type": "code",
      "execution_count": null,
      "metadata": {
        "id": "NZXVLY-Bds2y"
      },
      "outputs": [],
      "source": [
        "#skapar en lista med enbart temperatur\n",
        "temperature = temperature_df['Lufttemperatur']\n",
        "temperature"
      ]
    },
    {
      "cell_type": "code",
      "execution_count": null,
      "metadata": {
        "id": "TGOQ6-S3ds2y"
      },
      "outputs": [],
      "source": [
        "#Din kod för uppgift a här.."
      ]
    },
    {
      "cell_type": "markdown",
      "metadata": {
        "id": "l7f4lYcWds2y"
      },
      "source": [
        "## Uppgift 12\n",
        "\n",
        "Restaurang varvet har börjat använda swish i hög utsträckning, dock har de ett problem. Kassans dagliga sammanställning stämmer inte med summan som levereras från banken på hur mycket pengar som inkommit. Anledningen är att banken inte sammanställer swishinkomster per dag. Ägaren behöver därför göra detta manuellt vilket tar mycket tid. \n",
        "\n",
        "Uppgiften är därmed att beräkna en totalsumma av swishinbetalningar per dag och leverera denna sammanställning i en ny fil som ni sedan kan skicka till ägaren för att underlätta dennes arbete. Ni läser in filen på samma sätt som i föregående övning, även denna fil har ; som separator. Som hjälp har också de bibliotek ni behöver för att genomföra uppgiften importerats. Skapa lämligt antal nya kodblock för att utföra uppgiften samt besvara följande fråga som behandlar ett potentiellt problem med inläsningen av filen, ni behöver lösa detta problem för att kunna beräkna de dagliga intäkerna från swish. \n",
        "\n",
        "**FRÅGA:** Pandas är utvecklat på amerikansk standard medan .csv-filen använder europeiskt standard för att skriva siffror, detta kan skapa potentiella problem när det gäller behandlingen av data i sifferform, vad är det för formatering som skapar problem och vad är en lösning?\n",
        "\n",
        "\n"
      ]
    },
    {
      "cell_type": "code",
      "execution_count": null,
      "metadata": {
        "id": "OYC7HU2wds2y"
      },
      "outputs": [],
      "source": [
        "#Importerar nädvändiga bibliotek\n",
        "import pandas as pd\n",
        "import dateutil\n",
        "import csv as csv"
      ]
    },
    {
      "cell_type": "markdown",
      "metadata": {
        "id": "hnyOP0BAds2y"
      },
      "source": [
        "När ni är färdiga med laborationen ska ni redovisa den muntligt för en handledare, företrädesvis på redan schemalagda handledningstider. Nii ni fått godkänt på uppgiften, eller kompletterat eventuella felaktigheter som uppkommit på redovisningen ska ni lämna in länken till ert repository i GitHub i Studium under Laboration 1 redovisning och inlämning. Glöm inte att också lägga till en knapp för att öppna filen direkt i colaboratory (instruktion finns i code along 1). \n",
        "\n",
        "Alla celler ska vara körda och alla svar sparade. Koden ska inte heller inehålla några fel vid körning i colaboratory.  \n",
        "\n",
        "**Lycka till!**"
      ]
    },
    {
      "cell_type": "code",
      "execution_count": null,
      "metadata": {
        "id": "BZfE9Obads2y"
      },
      "outputs": [],
      "source": [
        ""
      ]
    }
  ],
  "metadata": {
    "kernelspec": {
      "display_name": "Python 3",
      "language": "python",
      "name": "python3"
    },
    "language_info": {
      "codemirror_mode": {
        "name": "ipython",
        "version": 3
      },
      "file_extension": ".py",
      "mimetype": "text/x-python",
      "name": "python",
      "nbconvert_exporter": "python",
      "pygments_lexer": "ipython3",
      "version": "3.7.4"
    },
    "colab": {
      "name": "Inlämning_1_del_1.ipynb",
      "provenance": []
    }
  },
  "nbformat": 4,
  "nbformat_minor": 0
}